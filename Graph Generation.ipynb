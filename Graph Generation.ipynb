{
 "cells": [
  {
   "cell_type": "markdown",
   "metadata": {
    "id": "D36qxkUtjzCB"
   },
   "source": [
    "# Package Definitions"
   ]
  },
  {
   "cell_type": "code",
   "execution_count": 1,
   "metadata": {
    "id": "hRS4T2dcj2DO"
   },
   "outputs": [],
   "source": [
    "## Package for Preferential Attachment Model with Delay\n",
    "## Version June 28, 2022\n",
    "\n",
    "## This model generates graphs from Preferential Attachment Model with Delay \n",
    "## where at any time t, m edges are created based on graph at time (t - delay_t)_+ \n",
    "## with edge probability proportional to (degree + delta)\n",
    "## For the no delay model, the exponent for the Asymptotic Degree distribution should be $ 3 + \\delta/m $\n",
    "\n",
    "## Load packages as needed\n",
    "import numpy as np\n",
    "import networkx as nx\n",
    "from networkx.utils import py_random_state\n",
    "import matplotlib.pyplot as plt\n",
    "import random, time, math\n",
    "import matplotlib.ticker as ticker\n",
    "import csv\n",
    "import os\n",
    "from tabulate import tabulate"
   ]
  },
  {
   "cell_type": "code",
   "execution_count": 2,
   "metadata": {
    "id": "XSKlCbPw5nXI"
   },
   "outputs": [],
   "source": [
    "## Auxiliary functions for plot axis labels\n",
    "def pow10(x, pos):\n",
    "    \"\"\"The two arguments are the value and tick position.\"\"\"\n",
    "    return '$10^{'+'{:1.1f}'.format(x)+'}$'\n"
   ]
  },
  {
   "cell_type": "code",
   "execution_count": 3,
   "metadata": {
    "id": "wzu9ekYCk9tJ"
   },
   "outputs": [],
   "source": [
    "## Taken from np random graph generator \n",
    "## fastest with integer computations\n",
    "## Return m unique elements from seq.\n",
    "## Note: rng is a random.Random or numpy.random.RandomState instance.\n",
    "\n",
    "def _random_subset(seq, m, rng):\n",
    "    targets = set()\n",
    "    while len(targets) < m:\n",
    "        x = rng.choice(seq)\n",
    "        targets.add(x)\n",
    "    return targets"
   ]
  },
  {
   "cell_type": "code",
   "execution_count": 4,
   "metadata": {
    "id": "e9SSCplrlFCd"
   },
   "outputs": [],
   "source": [
    "## This can take cumulative weights\n",
    "## two times slower then _random_subset\n",
    "## with floating point computations\n",
    "## Return m unique elements from seq.\n",
    "## Note: rng is a random.Random or numpy.random.RandomState instance.\"\"\"\n",
    "\n",
    "def _random_subset_pr(seq, m, cweight, rng):\n",
    "    targets = []\n",
    "    while len(targets) < m:\n",
    "        x = rng.choices(seq, cum_weights=cweight, k=1)\n",
    "        targets.extend(x)\n",
    "    return targets"
   ]
  },
  {
   "cell_type": "code",
   "execution_count": 5,
   "metadata": {
    "id": "ImLlbnGIndgf"
   },
   "outputs": [],
   "source": [
    "## Functions to generate one sample from Preferential Attachment model with Delay\n",
    "\n",
    "## PA(N, m, Delta) - No delay, integer Delta\n",
    "@py_random_state(5)\n",
    "def pa(n, m, delta=0, dela=1, G0=None, seed=None):\n",
    "    # DELTA must be a non-negative integer\n",
    "    if G0==None:\n",
    "        G = nx.star_graph(m)\n",
    "    else:\n",
    "        G = G0.copy()\n",
    "    repeated_nodes = [i for (i, d) in G.degree() for _ in range(d + delta) ]\n",
    "    source = len(G)\n",
    "    while source < n:\n",
    "        # Now choose m unique nodes from the existing nodes\n",
    "        # Pick uniformly from repeated_nodes (preferential attachment)\n",
    "        targets = _random_subset(repeated_nodes, m, seed)\n",
    "        # Add edges to m nodes from the source.\n",
    "        G.add_edges_from(zip([source] * m, targets))\n",
    "        # Add one node to the list for each new edge just created.\n",
    "        repeated_nodes.extend(targets)\n",
    "        # And the new node \"source\" has m edges to add to the list.\n",
    "        repeated_nodes.extend([source] * (m+delta))\n",
    "        source += 1\n",
    "    return G\n",
    "\n",
    "## PAD(N,m,Delta=0,Delay=1) - With Delay, integer Delta\n",
    "@py_random_state(5)\n",
    "def pad(n, m, delta=0, dela=1, G0=None, seed=None):\n",
    "    \"\"\"Return random graph using preferential attachment model with delay.\n",
    "    Delta must be an integer for this program\"\"\"\n",
    "    # Process the delay to get connection nodes\n",
    "    if type(dela)==int: \n",
    "        delay = np.maximum(range(n) - dela, 0)\n",
    "    else:\n",
    "        delay = np.maximum(range(n) - dela.astype(int), 0)\n",
    "    if G0==None:\n",
    "        G = nx.star_graph(m)\n",
    "    else:\n",
    "        G = G0.copy()\n",
    "    repeated_nodes = [i for (i, d) in G.degree() for _ in range(d + delta) ]\n",
    "    pos = [len(repeated_nodes) for _ in G.nodes()]\n",
    "    targets = _random_subset(repeated_nodes, m, seed)\n",
    "    source = len(G)\n",
    "    while source<n:\n",
    "        # Add edges to m nodes from the source.\n",
    "        G.add_edges_from(zip(targets,[source] * m))\n",
    "        # Add one node to the list for each new edge just created.\n",
    "        repeated_nodes.extend(targets)\n",
    "        # And the new node \"source\" has m edges to add to the list.\n",
    "        repeated_nodes.extend([source] * (m + delta))\n",
    "        pos.extend([pos[-1]+2*m+delta])\n",
    "        # Now choose m unique nodes from the existing nodes\n",
    "        # Pick uniformly from repeated_nodes (preferential attachement)\n",
    "        ds = delay[source]\n",
    "        posds = pos[ds]\n",
    "        if ds==source-1:\n",
    "            targets = _random_subset(repeated_nodes, m, seed)\n",
    "        else:\n",
    "            targets = _random_subset(repeated_nodes[:posds], m, seed)\n",
    "        source += 1\n",
    "    return G\n",
    "\n",
    "## PADGEN(N,m,Delta=0,Delay=1) - With Delay, real Delta\n",
    "@py_random_state(5)\n",
    "def padgen(n, m, delta=0, dela=1, G0=None, seed=None):\n",
    "    \"\"\"Return random graph using preferential attachment model with delay.\n",
    "    Delta can be any real number > -1 for this program\"\"\"\n",
    "    # Process the delay to get connection nodes\n",
    "    if type(dela)==int: \n",
    "        delay = np.maximum([i-dela for i in range(n)], 0)\n",
    "    else:\n",
    "        delay = np.maximum(range(n) - dela.astype(int), 0)\n",
    "    if G0==None:\n",
    "        G = nx.star_graph(m)\n",
    "    else:\n",
    "        G = G0.copy()\n",
    "    repeated_nodes = [k for (k, d) in G.degree()]\n",
    "    cweight_nodes = list(np.cumsum([d for (k, d) in G.degree()]))\n",
    "    pos = [len(G) for _ in G.nodes()]\n",
    "    # Start adding the other n-m0 nodes. The first node is m.\n",
    "    targets = _random_subset_pr(repeated_nodes, m, cweight_nodes, seed)\n",
    "    source = len(G)\n",
    "    while source<n:\n",
    "        # Add edges to m nodes from the source.\n",
    "        G.add_edges_from(zip(targets,[source]*m))\n",
    "        # Add one node to the list for each new edge just created.\n",
    "        repeated_nodes.extend([source])\n",
    "        cweight_nodes.extend([cweight_nodes[-1]+m+delta])\n",
    "        repeated_nodes.extend(targets)\n",
    "        cweight_nodes.extend([cweight_nodes[-1]+k+1 for k in range(m)])\n",
    "        # And the new node \"source\" has m edges to add to the list.\n",
    "        pos.extend([pos[-1]+m+1])\n",
    "        # Now choose m unique nodes from the existing nodes\n",
    "        # Pick uniformly from repeated_nodes (preferential attachement)\n",
    "        ds = delay[source]\n",
    "        posds = pos[ds]\n",
    "        if ds==source-1:\n",
    "            targets = _random_subset_pr(repeated_nodes, m, cweight_nodes, seed)\n",
    "        else:\n",
    "            targets = _random_subset_pr(repeated_nodes[:posds], m, cweight_nodes[:posds], seed)\n",
    "        source += 1\n",
    "    return G"
   ]
  },
  {
   "cell_type": "markdown",
   "metadata": {
    "id": "Ybzw1MkNy4LJ"
   },
   "source": [
    "Simulate from No Delay and with Delay Model. \n",
    "\n",
    "For delay distribution, we consider Pareto type distributions with exponent given by $A$, so that the upper tail probability of the delay random variable $\\delta$ at  $k$ is given by $k^{-A}$ and the mean of $\\delta^l$ is finite if and only if $l<A$. \n",
    "\n",
    "We take for $A\\geq 1$, delay=int($A$),\n",
    "for $0<A<1$, delay $\\sim$ Geometric$(A)$, and\n",
    "for $A<0$,\n",
    "delay = ceil($U^{-1/A}$) where $U$ is Uniform(0,1) random variable, so that $P(delay>x)=P(U<x^{-A})=x^{-A}$."
   ]
  },
  {
   "cell_type": "code",
   "execution_count": 6,
   "metadata": {
    "id": "HdtxxXeAqkwu"
   },
   "outputs": [],
   "source": [
    "def run( N=10000, M=1, DELTA=0, A=1, SAMPLE_SIZE=1, G0=None):\n",
    "    '''Run the Simulation'''\n",
    "\n",
    "    ## Delay distribution setup\n",
    "    if A==0 or A>=1:\n",
    "        A = np.maximum(int(A),1)\n",
    "        DELAY_GEN = lambda x: A*np.ones(x)\n",
    "    elif A>0 and A<1:\n",
    "        DELAY_GEN = lambda x: np.random.geometric(p = A, size = x)\n",
    "    else:\n",
    "        DELAY_GEN = lambda x: np.random.random(size=x)**(1/A)\n",
    "    \n",
    "    ## PA+DELAY model generator function setup\n",
    "    if not isinstance(DELTA, int):\n",
    "        func = padgen\n",
    "    elif A==1: ## No Delay\n",
    "        func = pa\n",
    "    else: ## Delta integer but with Delay\n",
    "        func = pad\n",
    "    \n",
    "    G_f = []\n",
    "    ## Run the simulation\n",
    "    start = time.time()\n",
    "    for _ in range(SAMPLE_SIZE):\n",
    "        DELAY = DELAY_GEN(N)\n",
    "        G = func(N, M, DELTA, DELAY, G0)\n",
    "        G_f.append(G)\n",
    "    end = time.time()\n",
    "    print('Time taken = %.2f Seconds'%(end - start))\n",
    "    return G_f\n"
   ]
  },
  {
   "cell_type": "markdown",
   "metadata": {
    "id": "8lUQAwY9j9cy"
   },
   "source": [
    "# Default Parameter Values"
   ]
  },
  {
   "cell_type": "code",
   "execution_count": 7,
   "metadata": {
    "id": "EPfllYa4qkwz"
   },
   "outputs": [],
   "source": [
    "## Default Parameter Values\n",
    "\n",
    "N = 10000      ## Size of the Graph\n",
    "\n",
    "M = 1           ## Number of outgoing connections per node\n",
    "\n",
    "DELTA = 0       ## Additive parameter in Preferential Attachment model\n",
    "\n",
    "A = 1           ## A=0,1 no delay, \n",
    "                ## 0<A<1 Geometric(A) delay,\n",
    "                ## A>1 constant delay, \n",
    "                ## A<0 random delay with $U^{1/A}$\n",
    "\n",
    "G0 = None       ## Initial graph, None is equivalent to nx.star_graph\n",
    "                ## Other options are complete_graph, empty_graph\n",
    "                ## For M=1, Delta=0 graphs with no edges will create an error\n",
    "\n",
    "SAMPLE_SIZE = 1 ## Number of samples"
   ]
  },
  {
   "cell_type": "markdown",
   "metadata": {
    "id": "FWOBLyVXkEb3"
   },
   "source": [
    "# Simulations"
   ]
  },
  {
   "cell_type": "code",
   "execution_count": 8,
   "metadata": {
    "colab": {
     "base_uri": "https://localhost:8080/",
     "height": 452
    },
    "id": "DKM_qIvxdZP9",
    "outputId": "7656c914-99cb-4e14-9954-426319fb951b"
   },
   "outputs": [],
   "source": [
    "def execute(N, M, DELTA, A, SAMPLE_SIZE):\n",
    "    filename =  \"newtest\" + str(A) + \".csv\"\n",
    "    header = [N, M, DELTA, -A, SAMPLE_SIZE]\n",
    "    G_f = run(N, M, DELTA, A, SAMPLE_SIZE)\n",
    "\n",
    "    with open(filename, 'a') as f:\n",
    "        writer = csv.writer(f)\n",
    "        if (os.stat(filename).st_size == 0):\n",
    "            writer.writerow(header)\n",
    "        for G in G_f:\n",
    "            degreeview = nx.degree(G)\n",
    "            degrees= [i[1] for i in degreeview if i[1] > M]\n",
    "            writer.writerow(degrees)\n",
    "\n",
    "def coefficent(filename, N=100000, SAMPLE_SIZE=5):\n",
    "    MAX_DEG = int(N/10)\n",
    "    bins = [i for i in range(MAX_DEG)]\n",
    "    binlen = len(bins)-1\n",
    "    nvals = np.zeros((SAMPLE_SIZE, binlen))\n",
    "    with open(filename, 'r') as f:\n",
    "        csv_reader = csv.reader(f)\n",
    "        idx = 0\n",
    "        i = 0\n",
    "        for row in csv_reader:\n",
    "            if idx % 2 == 0 and idx > 0:\n",
    "                row = [int(i) for i in row]\n",
    "                row = row + [1]*(N - len(row))\n",
    "                nvals[i,], _ = np.histogram(row, bins)\n",
    "                i += 1\n",
    "            idx += 1\n",
    "    deg_frac = np.mean(nvals,axis=0)\n",
    "    comb = np.transpose([ [i,j] for (i,j) in zip(bins,deg_frac) if j>0.1])\n",
    "    lbins = np.log10(comb[0])\n",
    "    ldeg_frac = np.log10(comb[1]/N)\n",
    "    ldeg_up_frac = np.log10(np.cumsum(comb[1][::-1])[::-1]/N)\n",
    "    l_cut = -4\n",
    "    u_cut = -1\n",
    "    comb = np.transpose([ [i, j] for (i,j) in zip(lbins, ldeg_up_frac) if (j>= l_cut and j<=u_cut)])\n",
    "    slope, _ = np.polyfit(comb[0], comb[1], 1)\n",
    "    return -slope + 1\n",
    "\n",
    "def maxdegree(filename):\n",
    "    degrees = []\n",
    "    with open(filename, 'r') as f:\n",
    "        reader = csv.reader(f)\n",
    "        idx = 0\n",
    "        for row in reader:\n",
    "            if idx % 2 == 0 and idx > 0:\n",
    "                row = [int(i) for i in row]\n",
    "                degrees = degrees + [max(row)]\n",
    "            idx += 1\n",
    "    return round(np.mean((degrees)))"
   ]
  },
  {
   "cell_type": "code",
   "execution_count": 12,
   "metadata": {},
   "outputs": [
    {
     "name": "stdout",
     "output_type": "stream",
     "text": [
      "[[3.1685383874566533, 3.102627620303623, 3.0771893566530495, 3.07850861543041, 3.0952470500110985, 3.090448201189695]]\n",
      "[[2999, 1945, 1411, 1405, 887, 1056]]\n"
     ]
    }
   ],
   "source": [
    "coefficentsnew = []\n",
    "avals = [0]\n",
    "delays = [0.5, 0.6, 0.75, 0.8, 1, 1.25]\n",
    "for a in avals:\n",
    "    temp = []\n",
    "    for d in delays:\n",
    "        csvname = \"newtest\" + str(-d) + \".csv\"\n",
    "        temp.append(coefficent(csvname, 200000, 10))\n",
    "    coefficentsnew.append(temp)\n",
    "\n",
    "maxdegsnew = []\n",
    "for a in avals:\n",
    "    temp = []\n",
    "    for d in delays:\n",
    "        csvname = \"newtest\" + str(-d) + \".csv\"\n",
    "        temp.append(maxdegree(csvname))\n",
    "    maxdegsnew.append(temp)\n",
    "\n",
    "print(coefficentsnew)\n",
    "print(maxdegsnew)"
   ]
  },
  {
   "cell_type": "code",
   "execution_count": 13,
   "metadata": {},
   "outputs": [
    {
     "name": "stdout",
     "output_type": "stream",
     "text": [
      "Time taken = 2024.07 Seconds\n"
     ]
    }
   ],
   "source": [
    "for a in [-1.1]:\n",
    "    execute(200000, 1, 0, a, 10)"
   ]
  },
  {
   "cell_type": "code",
   "execution_count": null,
   "metadata": {},
   "outputs": [],
   "source": [
    "#print(maxdegree(\"M1A-0.7DELTA-0.5.csv\"))"
   ]
  },
  {
   "cell_type": "code",
   "execution_count": 11,
   "metadata": {},
   "outputs": [
    {
     "ename": "FileNotFoundError",
     "evalue": "[Errno 2] No such file or directory: 'M1A-0.1DELTA0.csv'",
     "output_type": "error",
     "traceback": [
      "\u001b[1;31m---------------------------------------------------------------------------\u001b[0m",
      "\u001b[1;31mFileNotFoundError\u001b[0m                         Traceback (most recent call last)",
      "\u001b[1;32mc:\\Users\\Home Computer\\Desktop\\rgdata\\randomgraphcreatedata.ipynb Cell 16\u001b[0m in \u001b[0;36m<cell line: 4>\u001b[1;34m()\u001b[0m\n\u001b[0;32m      <a href='vscode-notebook-cell:/c%3A/Users/Home%20Computer/Desktop/rgdata/randomgraphcreatedata.ipynb#X21sZmlsZQ%3D%3D?line=5'>6</a>\u001b[0m \u001b[39mfor\u001b[39;00m d \u001b[39min\u001b[39;00m delays:\n\u001b[0;32m      <a href='vscode-notebook-cell:/c%3A/Users/Home%20Computer/Desktop/rgdata/randomgraphcreatedata.ipynb#X21sZmlsZQ%3D%3D?line=6'>7</a>\u001b[0m     csvname \u001b[39m=\u001b[39m \u001b[39m\"\u001b[39m\u001b[39mM\u001b[39m\u001b[39m\"\u001b[39m \u001b[39m+\u001b[39m \u001b[39mstr\u001b[39m(\u001b[39m1\u001b[39m) \u001b[39m+\u001b[39m \u001b[39m\"\u001b[39m\u001b[39mA\u001b[39m\u001b[39m\"\u001b[39m \u001b[39m+\u001b[39m \u001b[39mstr\u001b[39m(\u001b[39m-\u001b[39md) \u001b[39m+\u001b[39m \u001b[39m\"\u001b[39m\u001b[39mDELTA\u001b[39m\u001b[39m\"\u001b[39m \u001b[39m+\u001b[39m \u001b[39mstr\u001b[39m(a) \u001b[39m+\u001b[39m \u001b[39m\"\u001b[39m\u001b[39m.csv\u001b[39m\u001b[39m\"\u001b[39m\n\u001b[1;32m----> <a href='vscode-notebook-cell:/c%3A/Users/Home%20Computer/Desktop/rgdata/randomgraphcreatedata.ipynb#X21sZmlsZQ%3D%3D?line=7'>8</a>\u001b[0m     temp\u001b[39m.\u001b[39mappend(coefficent(csvname))\n\u001b[0;32m      <a href='vscode-notebook-cell:/c%3A/Users/Home%20Computer/Desktop/rgdata/randomgraphcreatedata.ipynb#X21sZmlsZQ%3D%3D?line=8'>9</a>\u001b[0m coefficents\u001b[39m.\u001b[39mappend(temp)\n",
      "\u001b[1;32mc:\\Users\\Home Computer\\Desktop\\rgdata\\randomgraphcreatedata.ipynb Cell 16\u001b[0m in \u001b[0;36mcoefficent\u001b[1;34m(filename, N, SAMPLE_SIZE)\u001b[0m\n\u001b[0;32m     <a href='vscode-notebook-cell:/c%3A/Users/Home%20Computer/Desktop/rgdata/randomgraphcreatedata.ipynb#X21sZmlsZQ%3D%3D?line=17'>18</a>\u001b[0m binlen \u001b[39m=\u001b[39m \u001b[39mlen\u001b[39m(bins)\u001b[39m-\u001b[39m\u001b[39m1\u001b[39m\n\u001b[0;32m     <a href='vscode-notebook-cell:/c%3A/Users/Home%20Computer/Desktop/rgdata/randomgraphcreatedata.ipynb#X21sZmlsZQ%3D%3D?line=18'>19</a>\u001b[0m nvals \u001b[39m=\u001b[39m np\u001b[39m.\u001b[39mzeros((SAMPLE_SIZE, binlen))\n\u001b[1;32m---> <a href='vscode-notebook-cell:/c%3A/Users/Home%20Computer/Desktop/rgdata/randomgraphcreatedata.ipynb#X21sZmlsZQ%3D%3D?line=19'>20</a>\u001b[0m \u001b[39mwith\u001b[39;00m \u001b[39mopen\u001b[39;49m(filename, \u001b[39m'\u001b[39;49m\u001b[39mr\u001b[39;49m\u001b[39m'\u001b[39;49m) \u001b[39mas\u001b[39;00m f:\n\u001b[0;32m     <a href='vscode-notebook-cell:/c%3A/Users/Home%20Computer/Desktop/rgdata/randomgraphcreatedata.ipynb#X21sZmlsZQ%3D%3D?line=20'>21</a>\u001b[0m     csv_reader \u001b[39m=\u001b[39m csv\u001b[39m.\u001b[39mreader(f)\n\u001b[0;32m     <a href='vscode-notebook-cell:/c%3A/Users/Home%20Computer/Desktop/rgdata/randomgraphcreatedata.ipynb#X21sZmlsZQ%3D%3D?line=21'>22</a>\u001b[0m     idx \u001b[39m=\u001b[39m \u001b[39m0\u001b[39m\n",
      "\u001b[1;31mFileNotFoundError\u001b[0m: [Errno 2] No such file or directory: 'M1A-0.1DELTA0.csv'"
     ]
    }
   ],
   "source": [
    "coefficents = []\n",
    "avals = [0,0.5,1,-0.5]\n",
    "delays = [i / 10 for i in range(1, 12)]\n",
    "for a in avals:\n",
    "    temp = []\n",
    "    for d in delays:\n",
    "        csvname = \"M\" + str(1) + \"A\" + str(-d) + \"DELTA\" + str(a) + \".csv\"\n",
    "        temp.append(coefficent(csvname))\n",
    "    coefficents.append(temp)"
   ]
  },
  {
   "cell_type": "code",
   "execution_count": null,
   "metadata": {},
   "outputs": [],
   "source": [
    "maxdegs = []\n",
    "avals = [0,0.5,1,-0.5]\n",
    "delays = [i / 10 for i in range(1, 12)]\n",
    "for a in avals:\n",
    "    temp = []\n",
    "    for d in delays:\n",
    "        csvname = \"M\" + str(1) + \"A\" + str(-d) + \"DELTA\" + str(a) + \".csv\"\n",
    "        temp.append(maxdegree(csvname))\n",
    "    maxdegs.append(temp)"
   ]
  },
  {
   "cell_type": "code",
   "execution_count": null,
   "metadata": {},
   "outputs": [
    {
     "name": "stdout",
     "output_type": "stream",
     "text": [
      "  0.1    0.2    0.3    0.4    0.5    0.6    0.7    0.8    0.9    1.0    1.1\n",
      "-----  -----  -----  -----  -----  -----  -----  -----  -----  -----  -----\n",
      "27003  13305   6441   3468   1970   1290    921    721    851    756    685\n",
      "24562  11118   4784   2401   1190    746    454    362    275    335    302\n",
      "23131   9884   4230   1761    863    521    364    251    214    220    173\n",
      "32671  19144  11281   7426   5847   4650   3913   3527   3310   4353   3191\n"
     ]
    }
   ],
   "source": [
    "print(tabulate(maxdegs, delays))"
   ]
  },
  {
   "cell_type": "code",
   "execution_count": null,
   "metadata": {},
   "outputs": [
    {
     "name": "stdout",
     "output_type": "stream",
     "text": [
      "    0.1      0.2      0.3      0.4      0.5      0.6      0.7      0.8      0.9      1.0      1.1\n",
      "-------  -------  -------  -------  -------  -------  -------  -------  -------  -------  -------\n",
      "4.16541  3.55513  3.24476  3.10599  3.06724  2.99464  2.98166  2.89849  2.96743  2.98491  2.95496\n",
      "4.68486  3.9686   3.64677  3.53331  3.45919  3.41049  3.38733  3.3108   3.38089  3.41878  3.4093\n",
      "4.9164   4.19367  3.99434  3.76681  3.82065  3.75117  3.74971  3.7011   3.66281  3.68732  3.65104\n",
      "3.67079  3.05645  2.77054  2.66368  2.58628  2.55361  2.54466  2.48279  2.5184   2.52427  2.48492\n"
     ]
    }
   ],
   "source": [
    "print(tabulate(coefficents, delays))"
   ]
  },
  {
   "cell_type": "code",
   "execution_count": null,
   "metadata": {},
   "outputs": [
    {
     "data": {
      "image/png": "[encoded data removed]",
      "text/plain": [
       "<Figure size 432x288 with 1 Axes>"
      ]
     },
     "metadata": {
      "needs_background": "light"
     },
     "output_type": "display_data"
    }
   ],
   "source": [
    "#DELTA 0 PLOT\n",
    "\n",
    "delayfirsthalf = np.array(delays[0:6])\n",
    "delaysecondhalf = np.array(delays[5:11])\n",
    "\n",
    "\n",
    "yvals = [math.log(i)/math.log(100000) for i in maxdegs[0]]\n",
    "yvalsfirsthalf = yvals[0:6]\n",
    "yvalssecondhalf = yvals[5:11]\n",
    "\n",
    "a, b = np.polyfit(delayfirsthalf[0:6], yvalsfirsthalf[0:6], 1)\n",
    "\n",
    "c = np.mean(yvalssecondhalf)\n",
    "\n",
    "plt.figure()\n",
    "plt.title('Delta = 0', fontname='Times New Roman', size=16)\n",
    "plt.xlabel('a', fontname='Times New Roman', size=16)\n",
    "plt.ylabel('log(M)/log(N)', fontname='Times New Roman', size=16)\n",
    "plt.plot(delayfirsthalf, yvalsfirsthalf, '.')\n",
    "plt.plot(delaysecondhalf, yvalssecondhalf, '.')\n",
    "plt.plot(np.append([0.6435], delayfirsthalf), a* np.append([0.6435], delayfirsthalf) + b, 'k-', label = 'Observed fit')\n",
    "plt.plot(np.append([0.6435], np.delete(delaysecondhalf,0)), [c]*6, 'k-')\n",
    "plt.plot(delayfirsthalf[0:5], 1 - delayfirsthalf[0:5], 'b--', label = 'Expected fit')\n",
    "plt.plot(np.append([0.5], delaysecondhalf), [0.5]*7, 'b--')\n",
    "plt.legend(loc='upper right')\n",
    "plt.show()\n",
    "\n"
   ]
  },
  {
   "cell_type": "code",
   "execution_count": null,
   "metadata": {},
   "outputs": [
    {
     "data": {
      "image/png": "[encoded data removed]",
      "text/plain": [
       "<Figure size 432x288 with 1 Axes>"
      ]
     },
     "metadata": {
      "needs_background": "light"
     },
     "output_type": "display_data"
    }
   ],
   "source": [
    "#DELTA 1 PLOT\n",
    "\n",
    "#delays = [math.log(i) for i in delays]\n",
    "delayfh = np.array(delays[0:7])\n",
    "delaysh = np.array(delays[6:11])\n",
    "\n",
    "\n",
    "yvals = [math.log(i)/math.log(100000) for i in maxdegs[2]]\n",
    "yvalsfh = yvals[0:7]\n",
    "yvalssh = yvals[6:11]\n",
    "\n",
    "a, b = np.polyfit(delayfh[0:7], yvalsfh[0:7], 1)\n",
    "\n",
    "c = np.mean(yvalssh)\n",
    "\n",
    "\n",
    "#x = np.linspace(0.1, 1.1, num = 11)\n",
    "#xfunc = np.linspace(0.1, 1.1, num = 11)\n",
    "#y = 1/30000 * (x)**-1 + 685\n",
    "plt.figure()\n",
    "plt.title('Delta = 1', fontname='Times New Roman', size=16)\n",
    "plt.xlabel('a', fontname='Times New Roman', size=16)\n",
    "plt.ylabel('log(M)/log(N)', fontname='Times New Roman', size=16)\n",
    "plt.plot(delayfh, yvalsfh, '.')\n",
    "plt.plot(delaysh, yvalssh, '.')\n",
    "plt.plot(np.append([0.713], delayfh), a* np.append([0.713], delayfh) + b, 'k-', label = 'Observed fit')\n",
    "plt.plot(np.append([0.7139], np.delete(delaysh,0)), [c]*5, 'k-')\n",
    "plt.plot(np.append(delayfh[0:6], [0.667]), 1 - np.append(delayfh[0:6], [0.667]), 'b--', label = 'Expected fit')\n",
    "plt.plot(np.append([0.667], delaysh), [0.333]*6, 'b--')\n",
    "#plt.plot(xfunc, y, label = \"-27003$(x - 1.1)^7$ + 685\")\n",
    "plt.legend(loc='upper right')\n",
    "plt.show()"
   ]
  },
  {
   "cell_type": "code",
   "execution_count": null,
   "metadata": {},
   "outputs": [
    {
     "data": {
      "image/png": "[encoded data removed]",
      "text/plain": [
       "<Figure size 432x288 with 1 Axes>"
      ]
     },
     "metadata": {
      "needs_background": "light"
     },
     "output_type": "display_data"
    },
    {
     "name": "stdout",
     "output_type": "stream",
     "text": [
      "-0.6170550076363948\n",
      "0.9307945698938879\n",
      "0.51776292315624\n"
     ]
    }
   ],
   "source": [
    "#DELTA 0.5 PLOT\n",
    "\n",
    "#delays = [math.log(i) for i in delays]\n",
    "delayfirsthalf = np.array(delays[0:6])\n",
    "delaysecondhalf = np.array(delays[5:11])\n",
    "\n",
    "\n",
    "yvals = [math.log(i)/math.log(100000) for i in maxdegs[1]]\n",
    "yvalsfirsthalf = yvals[0:6]\n",
    "yvalssecondhalf = yvals[5:11]\n",
    "\n",
    "a, b = np.polyfit(delayfirsthalf[0:6], yvalsfirsthalf[0:6], 1)\n",
    "\n",
    "c = np.mean(yvalssecondhalf)\n",
    "\n",
    "\n",
    "#x = np.linspace(0.1, 1.1, num = 11)\n",
    "#xfunc = np.linspace(0.1, 1.1, num = 11)\n",
    "#y = 1/30000 * (x)**-1 + 685\n",
    "plt.figure()\n",
    "plt.title('Delta = 0.5', fontname='Times New Roman', size=16)\n",
    "plt.xlabel('a', fontname='Times New Roman', size=16)\n",
    "plt.ylabel('log(M)/log(N)', fontname='Times New Roman', size=16)\n",
    "plt.plot(delayfirsthalf, yvalsfirsthalf, '.')\n",
    "plt.plot(delaysecondhalf, yvalssecondhalf, '.')\n",
    "plt.plot(np.append([0.669], delayfirsthalf), a* np.append([0.669], delayfirsthalf) + b, 'k-', label = 'Observed fit')\n",
    "plt.plot(np.append([0.6699], np.delete(delaysecondhalf,0)), [c]*6, 'k-')\n",
    "plt.plot(delayfirsthalf[0:6], 1 - delayfirsthalf[0:6], 'b--', label = 'Expected fit')\n",
    "plt.plot(delaysecondhalf, [0.4]*6, 'b--')\n",
    "plt.legend(loc='upper right')\n",
    "plt.show()\n",
    "print(a)\n",
    "print(b) \n",
    "print(c)"
   ]
  },
  {
   "cell_type": "code",
   "execution_count": null,
   "metadata": {},
   "outputs": [
    {
     "data": {
      "image/png": "[encoded data removed]",
      "text/plain": [
       "<Figure size 432x288 with 1 Axes>"
      ]
     },
     "metadata": {
      "needs_background": "light"
     },
     "output_type": "display_data"
    },
    {
     "name": "stdout",
     "output_type": "stream",
     "text": [
      "-0.4319815069287973\n",
      "0.9439602596004364\n",
      "0.7276899941078043\n"
     ]
    }
   ],
   "source": [
    "#DELTA -0.5 PLOT\n",
    "\n",
    "#delays = [math.log(i) for i in delays]\n",
    "delayfirsthalf = np.array(delays[0:4])\n",
    "delaysecondhalf = np.array(delays[3:11])\n",
    "\n",
    "\n",
    "yvals = [math.log(i)/math.log(100000) for i in maxdegs[3]]\n",
    "yvalsfirsthalf = yvals[0:4]\n",
    "yvalssecondhalf = yvals[3:11]\n",
    "\n",
    "a, b = np.polyfit(delayfirsthalf[0:4], yvalsfirsthalf[0:4], 1)\n",
    "\n",
    "c = np.mean(yvalssecondhalf)\n",
    "\n",
    "\n",
    "#x = np.linspace(0.1, 1.1, num = 11)\n",
    "#xfunc = np.linspace(0.1, 1.1, num = 11)\n",
    "#y = 1/30000 * (x)**-1 + 685\n",
    "plt.figure()\n",
    "plt.title('Delta = -0.5', fontname='Times New Roman', size=16)\n",
    "plt.xlabel('a', fontname='Times New Roman', size=16)\n",
    "plt.ylabel('log(M)/log(N)', fontname='Times New Roman', size=16)\n",
    "plt.plot(delayfirsthalf, yvalsfirsthalf, '.')\n",
    "plt.plot(delaysecondhalf, yvalssecondhalf, '.')\n",
    "plt.plot(np.append([0.5], delayfirsthalf), a* np.append([0.5], delayfirsthalf) + b, 'k-', label = 'Observed fit')\n",
    "plt.plot(np.append([0.5], np.delete(delaysecondhalf,0)), [c]*8, 'k-')\n",
    "plt.plot(np.append(delayfirsthalf[0:3], [0.333]), 1 - np.append(delayfirsthalf[0:3], [0.333]), 'b--', label = 'Expected fit')\n",
    "plt.plot(np.append(delaysecondhalf, [0.333]), [0.667]*9, 'b--')\n",
    "plt.legend(loc='upper right')\n",
    "plt.show()\n",
    "print(a)\n",
    "print(b) \n",
    "print(c)"
   ]
  },
  {
   "cell_type": "code",
   "execution_count": null,
   "metadata": {},
   "outputs": [
    {
     "data": {
      "text/plain": [
       "<matplotlib.legend.Legend at 0x22f4e6b9850>"
      ]
     },
     "execution_count": 31,
     "metadata": {},
     "output_type": "execute_result"
    },
    {
     "data": {
      "image/png": "[encoded data removed]",
      "text/plain": [
       "<Figure size 432x288 with 1 Axes>"
      ]
     },
     "metadata": {
      "needs_background": "light"
     },
     "output_type": "display_data"
    }
   ],
   "source": [
    "import matplotlib.patches as mpatches\n",
    "\n",
    "#DELTA 0\n",
    "\n",
    "expected = [1 - i for i in delays if i <= 0.5]\n",
    "expected += [0.5]*6\n",
    "\n",
    "actual = [math.log(i)/math.log(100000) for i in maxdegs[0]]\n",
    "\n",
    "\n",
    "differencebetween = abs(np.subtract(expected, actual))\n",
    "plt.figure()\n",
    "plt.title('Error', fontname='Times New Roman', size=16)\n",
    "plt.xlabel('a', fontname='Times New Roman', size=16)\n",
    "plt.ylabel('Observed - Expected', fontname='Times New Roman', size=16)\n",
    "plt.plot(delays, differencebetween, '-')\n",
    "\n",
    "#DELTA 0.5\n",
    "\n",
    "expectednonzero = [1 - i for i in delays if i <= 0.6]\n",
    "expectednonzero += [0.4]*5\n",
    "\n",
    "actualnz = actual = [math.log(i)/math.log(100000) for i in maxdegs[1]]\n",
    "\n",
    "diffbetnz = abs(np.subtract(expectednonzero, actualnz))\n",
    "\n",
    "plt.plot(delays, diffbetnz, '-')\n",
    "\n",
    "#DELTA 1\n",
    "\n",
    "expectedone = [1 - i for i in delays if i <= 0.6]\n",
    "expectedone += [0.3333]*5\n",
    "\n",
    "actualone = [math.log(i)/math.log(100000) for i in maxdegs[2]]\n",
    "\n",
    "diffbetone = abs(np.subtract(expectedone, actualone))\n",
    "\n",
    "plt.plot(delays, diffbetone, '-', color='black')\n",
    "\n",
    "#DELTA -0.5\n",
    " \n",
    "expectedneg = [1 - i for i in delays if i <= 0.3]\n",
    "expectedneg += [0.6667]*8\n",
    "\n",
    "actualneg = [math.log(i)/math.log(100000) for i in maxdegs[3]]\n",
    "\n",
    "diffbetneg = abs(np.subtract(expectedneg, actualneg))\n",
    "\n",
    "plt.plot(delays, diffbetneg, '-', color='red')\n",
    "\n",
    "\n",
    "#Legend\n",
    "blue_patch = mpatches.Patch(color='blue', label='0')\n",
    "orange_patch = mpatches.Patch(color='orange', label='0.5')\n",
    "black_patch = mpatches.Patch(color='black', label = '1')\n",
    "red_patch = mpatches.Patch(color='red', label = '-0.5')\n",
    "\n",
    "\n",
    "plt.legend(handles = [blue_patch, orange_patch, black_patch, red_patch])"
   ]
  }
 ],
 "metadata": {
  "colab": {
   "collapsed_sections": [],
   "name": "PA_Delay_model.ipynb",
   "provenance": []
  },
  "kernelspec": {
   "display_name": "Python 3.9.7 64-bit",
   "language": "python",
   "name": "python3"
  },
  "language_info": {
   "codemirror_mode": {
    "name": "ipython",
    "version": 3
   },
   "file_extension": ".py",
   "mimetype": "text/x-python",
   "name": "python",
   "nbconvert_exporter": "python",
   "pygments_lexer": "ipython3",
   "version": "3.9.7"
  },
  "vscode": {
   "interpreter": {
    "hash": "c436bcab5884990bc5c6505a20fe8192b423fdca9a1d44a6f1110287ce6742ce"
   }
  }
 },
 "nbformat": 4,
 "nbformat_minor": 1
}
